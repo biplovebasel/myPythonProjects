{
  "nbformat": 4,
  "nbformat_minor": 0,
  "metadata": {
    "colab": {
      "name": "audio_features.ipynb",
      "provenance": [],
      "authorship_tag": "ABX9TyPJhCbtYmEzZlIEpQz79DvU",
      "include_colab_link": true
    },
    "kernelspec": {
      "name": "python3",
      "display_name": "Python 3"
    },
    "language_info": {
      "name": "python"
    }
  },
  "cells": [
    {
      "cell_type": "markdown",
      "metadata": {
        "id": "view-in-github",
        "colab_type": "text"
      },
      "source": [
        "<a href=\"https://colab.research.google.com/github/biplovebasel/myPythonProjects/blob/master/audio_features.ipynb\" target=\"_parent\"><img src=\"https://colab.research.google.com/assets/colab-badge.svg\" alt=\"Open In Colab\"/></a>"
      ]
    },
    {
      "cell_type": "markdown",
      "source": [
        "[![Open In Colab](https://colab.research.google.com/assets/colab-badge.svg)](https://colab.research.google.com/github/googlecolab/colabtools/blob/master/notebooks/colab-github-demo.ipynb)\n"
      ],
      "metadata": {
        "id": "Gl8mkqXvdexD"
      }
    },
    {
      "cell_type": "markdown",
      "source": [
        "### Download sample audio"
      ],
      "metadata": {
        "id": "2Rj0c6-JUn8y"
      }
    },
    {
      "cell_type": "code",
      "source": [
        ""
      ],
      "metadata": {
        "id": "SXQ30n-EdZp2"
      },
      "execution_count": null,
      "outputs": []
    },
    {
      "cell_type": "code",
      "source": [
        ""
      ],
      "metadata": {
        "id": "Jgv9gPCUUnhZ"
      },
      "execution_count": null,
      "outputs": []
    }
  ]
}